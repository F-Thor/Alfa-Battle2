{
 "cells": [
  {
   "cell_type": "code",
   "execution_count": 1,
   "metadata": {},
   "outputs": [],
   "source": [
    "import numpy as np\n",
    "import pandas as pd"
   ]
  },
  {
   "cell_type": "code",
   "execution_count": 14,
   "metadata": {},
   "outputs": [
    {
     "data": {
      "text/plain": [
       "(1501393, 118)"
      ]
     },
     "execution_count": 14,
     "metadata": {},
     "output_type": "execute_result"
    }
   ],
   "source": [
    "#st1=pd.read_csv('train_table_client_0_1501392.csv')\n",
    "st1.shape"
   ]
  },
  {
   "cell_type": "code",
   "execution_count": 15,
   "metadata": {},
   "outputs": [
    {
     "data": {
      "text/plain": [
       "(498607, 118)"
      ]
     },
     "execution_count": 15,
     "metadata": {},
     "output_type": "execute_result"
    }
   ],
   "source": [
    "#st2=pd.read_csv('train_table_client_1501393_1999999.csv')\n",
    "st2.shape"
   ]
  },
  {
   "cell_type": "code",
   "execution_count": 16,
   "metadata": {},
   "outputs": [
    {
     "data": {
      "text/plain": [
       "(2000000, 118)"
      ]
     },
     "execution_count": 16,
     "metadata": {},
     "output_type": "execute_result"
    }
   ],
   "source": [
    "full_train_client=st1.append(st2, ignore_index=True)\n",
    "full_train_client.shape"
   ]
  },
  {
   "cell_type": "code",
   "execution_count": 17,
   "metadata": {},
   "outputs": [
    {
     "data": {
      "text/plain": [
       "(500000, 118)"
      ]
     },
     "execution_count": 17,
     "metadata": {},
     "output_type": "execute_result"
    }
   ],
   "source": [
    "st3=pd.read_csv('train_table_client_2000000_2499999.csv')\n",
    "st3.shape"
   ]
  },
  {
   "cell_type": "code",
   "execution_count": 18,
   "metadata": {},
   "outputs": [
    {
     "data": {
      "text/plain": [
       "(500000, 118)"
      ]
     },
     "execution_count": 18,
     "metadata": {},
     "output_type": "execute_result"
    }
   ],
   "source": [
    "st4=pd.read_csv('tain_client_2500000_2999999.csv')\n",
    "st4.shape"
   ]
  },
  {
   "cell_type": "code",
   "execution_count": 19,
   "metadata": {},
   "outputs": [
    {
     "data": {
      "text/plain": [
       "(3000000, 118)"
      ]
     },
     "execution_count": 19,
     "metadata": {},
     "output_type": "execute_result"
    }
   ],
   "source": [
    "full_train_client=full_train_client.append(st3, ignore_index=True)\n",
    "full_train_client=full_train_client.append(st4, ignore_index=True)\n",
    "full_train_client.shape"
   ]
  },
  {
   "cell_type": "code",
   "execution_count": 23,
   "metadata": {},
   "outputs": [],
   "source": [
    "full_train_client.to_csv('full_train_client.csv')"
   ]
  },
  {
   "cell_type": "code",
   "execution_count": 42,
   "metadata": {},
   "outputs": [
    {
     "data": {
      "text/html": [
       "<div>\n",
       "<style scoped>\n",
       "    .dataframe tbody tr th:only-of-type {\n",
       "        vertical-align: middle;\n",
       "    }\n",
       "\n",
       "    .dataframe tbody tr th {\n",
       "        vertical-align: top;\n",
       "    }\n",
       "\n",
       "    .dataframe thead th {\n",
       "        text-align: right;\n",
       "    }\n",
       "</style>\n",
       "<table border=\"1\" class=\"dataframe\">\n",
       "  <thead>\n",
       "    <tr style=\"text-align: right;\">\n",
       "      <th></th>\n",
       "      <th>Unnamed: 0</th>\n",
       "      <th>client_pin</th>\n",
       "      <th>month</th>\n",
       "      <th>weekofyear</th>\n",
       "      <th>day</th>\n",
       "      <th>hour</th>\n",
       "      <th>multi_class_target</th>\n",
       "    </tr>\n",
       "  </thead>\n",
       "  <tbody>\n",
       "    <tr>\n",
       "      <th>3199992</th>\n",
       "      <td>3199992</td>\n",
       "      <td>c4d300215eb96a550f37cc3119b4a3ab</td>\n",
       "      <td>1</td>\n",
       "      <td>1</td>\n",
       "      <td>4</td>\n",
       "      <td>13</td>\n",
       "      <td>card2card_transfer</td>\n",
       "    </tr>\n",
       "    <tr>\n",
       "      <th>3199993</th>\n",
       "      <td>3199993</td>\n",
       "      <td>16101bba83dd0bff692a23d8ee6346a6</td>\n",
       "      <td>7</td>\n",
       "      <td>29</td>\n",
       "      <td>18</td>\n",
       "      <td>14</td>\n",
       "      <td>main_screen</td>\n",
       "    </tr>\n",
       "    <tr>\n",
       "      <th>3199994</th>\n",
       "      <td>3199994</td>\n",
       "      <td>2b476ee1a3ac4ae53a0d8d127c15d670</td>\n",
       "      <td>3</td>\n",
       "      <td>11</td>\n",
       "      <td>14</td>\n",
       "      <td>8</td>\n",
       "      <td>main_screen</td>\n",
       "    </tr>\n",
       "    <tr>\n",
       "      <th>3199995</th>\n",
       "      <td>3199995</td>\n",
       "      <td>5b7c567342b6e2c4402775bc2124a7f3</td>\n",
       "      <td>1</td>\n",
       "      <td>3</td>\n",
       "      <td>17</td>\n",
       "      <td>17</td>\n",
       "      <td>main_screen</td>\n",
       "    </tr>\n",
       "    <tr>\n",
       "      <th>3199996</th>\n",
       "      <td>3199996</td>\n",
       "      <td>8c3fdfca04a8eb350e10d01df93c55ad</td>\n",
       "      <td>1</td>\n",
       "      <td>5</td>\n",
       "      <td>28</td>\n",
       "      <td>20</td>\n",
       "      <td>main_screen</td>\n",
       "    </tr>\n",
       "    <tr>\n",
       "      <th>3199997</th>\n",
       "      <td>3199997</td>\n",
       "      <td>28c855ef3b469a25f90754e3e9f4fd8c</td>\n",
       "      <td>6</td>\n",
       "      <td>27</td>\n",
       "      <td>29</td>\n",
       "      <td>11</td>\n",
       "      <td>main_screen</td>\n",
       "    </tr>\n",
       "    <tr>\n",
       "      <th>3199998</th>\n",
       "      <td>3199998</td>\n",
       "      <td>11e5b3fc0af95e18a2a865edc75abb7e</td>\n",
       "      <td>8</td>\n",
       "      <td>33</td>\n",
       "      <td>12</td>\n",
       "      <td>12</td>\n",
       "      <td>card_recharge</td>\n",
       "    </tr>\n",
       "    <tr>\n",
       "      <th>3199999</th>\n",
       "      <td>3199999</td>\n",
       "      <td>6f3f391c83562a701cf154ceee53ea4b</td>\n",
       "      <td>4</td>\n",
       "      <td>17</td>\n",
       "      <td>26</td>\n",
       "      <td>16</td>\n",
       "      <td>main_screen</td>\n",
       "    </tr>\n",
       "  </tbody>\n",
       "</table>\n",
       "</div>"
      ],
      "text/plain": [
       "         Unnamed: 0                        client_pin  month  weekofyear  day  \\\n",
       "3199992     3199992  c4d300215eb96a550f37cc3119b4a3ab      1           1    4   \n",
       "3199993     3199993  16101bba83dd0bff692a23d8ee6346a6      7          29   18   \n",
       "3199994     3199994  2b476ee1a3ac4ae53a0d8d127c15d670      3          11   14   \n",
       "3199995     3199995  5b7c567342b6e2c4402775bc2124a7f3      1           3   17   \n",
       "3199996     3199996  8c3fdfca04a8eb350e10d01df93c55ad      1           5   28   \n",
       "3199997     3199997  28c855ef3b469a25f90754e3e9f4fd8c      6          27   29   \n",
       "3199998     3199998  11e5b3fc0af95e18a2a865edc75abb7e      8          33   12   \n",
       "3199999     3199999  6f3f391c83562a701cf154ceee53ea4b      4          17   26   \n",
       "\n",
       "         hour  multi_class_target  \n",
       "3199992    13  card2card_transfer  \n",
       "3199993    14         main_screen  \n",
       "3199994     8         main_screen  \n",
       "3199995    17         main_screen  \n",
       "3199996    20         main_screen  \n",
       "3199997    11         main_screen  \n",
       "3199998    12       card_recharge  \n",
       "3199999    16         main_screen  "
      ]
     },
     "execution_count": 42,
     "metadata": {},
     "output_type": "execute_result"
    }
   ],
   "source": [
    "#full_clients=pd.read_csv('train.csv')\n",
    "#full_clients.drop('Unnamed: 0', axis=1, inplace=True)\n",
    "#full_clients.head()\n",
    "full_clients.iloc[[3199992,3199993,3199994,3199995,3199996,3199997,3199998,3199999]]"
   ]
  },
  {
   "cell_type": "code",
   "execution_count": 55,
   "metadata": {},
   "outputs": [],
   "source": [
    "obraz=pd.read_csv('train.csv')\n",
    "full_clients=pd.read_csv('full_client.csv',index_col = 0)"
   ]
  },
  {
   "cell_type": "code",
   "execution_count": 56,
   "metadata": {},
   "outputs": [],
   "source": [
    "st5_6=pd.DataFrame()\n",
    "#for index in obraz.index[3199994:3199999]:\n",
    "elem=obraz.loc[3199999,'client_pin']\n",
    "st5_6=st5_6.append(full_clients.loc[str(elem)])\n",
    "#    if index%100000==0: print(time.ctime(),'\\n',train_table_client.shape,'\\n',train_table_client.head())\n",
    "st5_6.to_csv('st5_6.csv')"
   ]
  },
  {
   "cell_type": "code",
   "execution_count": 58,
   "metadata": {},
   "outputs": [
    {
     "data": {
      "text/plain": [
       "(200000, 118)"
      ]
     },
     "execution_count": 58,
     "metadata": {},
     "output_type": "execute_result"
    }
   ],
   "source": [
    "#st5=pd.read_csv('train_table_client_3000000_3199999.csv')\n",
    "#st56=pd.read_csv('st5_6.csv')\n",
    "#st5=st5.append(st56, ignore_index=True)\n",
    "st5.shape"
   ]
  },
  {
   "cell_type": "code",
   "execution_count": 21,
   "metadata": {},
   "outputs": [
    {
     "data": {
      "text/plain": [
       "(300000, 118)"
      ]
     },
     "execution_count": 21,
     "metadata": {},
     "output_type": "execute_result"
    }
   ],
   "source": [
    "st6=pd.read_csv('train_table_client_3200000_3499999.csv')\n",
    "st6.shape"
   ]
  },
  {
   "cell_type": "code",
   "execution_count": 59,
   "metadata": {},
   "outputs": [
    {
     "data": {
      "text/plain": [
       "(300180, 118)"
      ]
     },
     "execution_count": 59,
     "metadata": {},
     "output_type": "execute_result"
    }
   ],
   "source": [
    "st7=pd.read_csv('train_table_client_3500000_3800179.csv')\n",
    "st7.shape"
   ]
  },
  {
   "cell_type": "code",
   "execution_count": 60,
   "metadata": {},
   "outputs": [
    {
     "data": {
      "text/plain": [
       "(299820, 118)"
      ]
     },
     "execution_count": 60,
     "metadata": {},
     "output_type": "execute_result"
    }
   ],
   "source": [
    "st8=pd.read_csv('train_table_client_3800180_4100000.csv')\n",
    "st8.shape"
   ]
  },
  {
   "cell_type": "code",
   "execution_count": 61,
   "metadata": {},
   "outputs": [
    {
     "data": {
      "text/plain": [
       "(4100000, 118)"
      ]
     },
     "execution_count": 61,
     "metadata": {},
     "output_type": "execute_result"
    }
   ],
   "source": [
    "full_train_client=full_train_client.append(st5, ignore_index=True)\n",
    "full_train_client=full_train_client.append(st6, ignore_index=True)\n",
    "full_train_client=full_train_client.append(st7, ignore_index=True)\n",
    "full_train_client=full_train_client.append(st8, ignore_index=True)\n",
    "full_train_client.shape"
   ]
  },
  {
   "cell_type": "code",
   "execution_count": 62,
   "metadata": {},
   "outputs": [],
   "source": [
    "full_train_client.to_csv('full_train_client_0_4100000.csv')"
   ]
  },
  {
   "cell_type": "code",
   "execution_count": 63,
   "metadata": {},
   "outputs": [
    {
     "data": {
      "text/html": [
       "<div>\n",
       "<style scoped>\n",
       "    .dataframe tbody tr th:only-of-type {\n",
       "        vertical-align: middle;\n",
       "    }\n",
       "\n",
       "    .dataframe tbody tr th {\n",
       "        vertical-align: top;\n",
       "    }\n",
       "\n",
       "    .dataframe thead th {\n",
       "        text-align: right;\n",
       "    }\n",
       "</style>\n",
       "<table border=\"1\" class=\"dataframe\">\n",
       "  <thead>\n",
       "    <tr style=\"text-align: right;\">\n",
       "      <th></th>\n",
       "      <th>Unnamed: 0</th>\n",
       "      <th>0</th>\n",
       "      <th>0.1</th>\n",
       "      <th>1</th>\n",
       "      <th>1.1</th>\n",
       "      <th>10</th>\n",
       "      <th>10.1</th>\n",
       "      <th>11</th>\n",
       "      <th>11.1</th>\n",
       "      <th>12</th>\n",
       "      <th>...</th>\n",
       "      <th>9.1</th>\n",
       "      <th>90</th>\n",
       "      <th>91</th>\n",
       "      <th>92</th>\n",
       "      <th>93</th>\n",
       "      <th>94</th>\n",
       "      <th>95</th>\n",
       "      <th>96</th>\n",
       "      <th>97</th>\n",
       "      <th>98</th>\n",
       "    </tr>\n",
       "  </thead>\n",
       "  <tbody>\n",
       "    <tr>\n",
       "      <th>0</th>\n",
       "      <td>7cf9221322a0e2fdefb1b998b8f2ab29</td>\n",
       "      <td>0.0</td>\n",
       "      <td>1743.0</td>\n",
       "      <td>0.0</td>\n",
       "      <td>954.0</td>\n",
       "      <td>176.0</td>\n",
       "      <td>1128.0</td>\n",
       "      <td>1261.0</td>\n",
       "      <td>1234.0</td>\n",
       "      <td>974.0</td>\n",
       "      <td>...</td>\n",
       "      <td>1386.0</td>\n",
       "      <td>0.0</td>\n",
       "      <td>2651.0</td>\n",
       "      <td>0.0</td>\n",
       "      <td>1705.0</td>\n",
       "      <td>2647.0</td>\n",
       "      <td>2.0</td>\n",
       "      <td>2.0</td>\n",
       "      <td>944.0</td>\n",
       "      <td>915.0</td>\n",
       "    </tr>\n",
       "    <tr>\n",
       "      <th>1</th>\n",
       "      <td>5f16c0ab27a806fd08db3122921adf3a</td>\n",
       "      <td>0.0</td>\n",
       "      <td>943.0</td>\n",
       "      <td>0.0</td>\n",
       "      <td>774.0</td>\n",
       "      <td>15.0</td>\n",
       "      <td>726.0</td>\n",
       "      <td>948.0</td>\n",
       "      <td>638.0</td>\n",
       "      <td>558.0</td>\n",
       "      <td>...</td>\n",
       "      <td>982.0</td>\n",
       "      <td>0.0</td>\n",
       "      <td>1726.0</td>\n",
       "      <td>0.0</td>\n",
       "      <td>671.0</td>\n",
       "      <td>1557.0</td>\n",
       "      <td>15.0</td>\n",
       "      <td>12.0</td>\n",
       "      <td>1040.0</td>\n",
       "      <td>976.0</td>\n",
       "    </tr>\n",
       "    <tr>\n",
       "      <th>2</th>\n",
       "      <td>ec868fc2b388293cf10e18ee9518d72f</td>\n",
       "      <td>0.0</td>\n",
       "      <td>1099.0</td>\n",
       "      <td>0.0</td>\n",
       "      <td>760.0</td>\n",
       "      <td>137.0</td>\n",
       "      <td>882.0</td>\n",
       "      <td>364.0</td>\n",
       "      <td>569.0</td>\n",
       "      <td>340.0</td>\n",
       "      <td>...</td>\n",
       "      <td>645.0</td>\n",
       "      <td>0.0</td>\n",
       "      <td>1614.0</td>\n",
       "      <td>0.0</td>\n",
       "      <td>1331.0</td>\n",
       "      <td>1614.0</td>\n",
       "      <td>2.0</td>\n",
       "      <td>3.0</td>\n",
       "      <td>281.0</td>\n",
       "      <td>267.0</td>\n",
       "    </tr>\n",
       "    <tr>\n",
       "      <th>3</th>\n",
       "      <td>91f55a33d7502c1a1fa5da7ff2f7b648</td>\n",
       "      <td>0.0</td>\n",
       "      <td>2528.0</td>\n",
       "      <td>0.0</td>\n",
       "      <td>1332.0</td>\n",
       "      <td>97.0</td>\n",
       "      <td>2116.0</td>\n",
       "      <td>1846.0</td>\n",
       "      <td>2249.0</td>\n",
       "      <td>1150.0</td>\n",
       "      <td>...</td>\n",
       "      <td>2312.0</td>\n",
       "      <td>3665.0</td>\n",
       "      <td>0.0</td>\n",
       "      <td>2644.0</td>\n",
       "      <td>3664.0</td>\n",
       "      <td>20.0</td>\n",
       "      <td>0.0</td>\n",
       "      <td>34.0</td>\n",
       "      <td>1001.0</td>\n",
       "      <td>847.0</td>\n",
       "    </tr>\n",
       "    <tr>\n",
       "      <th>4</th>\n",
       "      <td>3ef1020bda95ce7836d2680fa553ecb7</td>\n",
       "      <td>6.0</td>\n",
       "      <td>153.0</td>\n",
       "      <td>0.0</td>\n",
       "      <td>151.0</td>\n",
       "      <td>15.0</td>\n",
       "      <td>126.0</td>\n",
       "      <td>125.0</td>\n",
       "      <td>153.0</td>\n",
       "      <td>59.0</td>\n",
       "      <td>...</td>\n",
       "      <td>161.0</td>\n",
       "      <td>1.0</td>\n",
       "      <td>279.0</td>\n",
       "      <td>1.0</td>\n",
       "      <td>39.0</td>\n",
       "      <td>279.0</td>\n",
       "      <td>0.0</td>\n",
       "      <td>2.0</td>\n",
       "      <td>240.0</td>\n",
       "      <td>238.0</td>\n",
       "    </tr>\n",
       "  </tbody>\n",
       "</table>\n",
       "<p>5 rows × 118 columns</p>\n",
       "</div>"
      ],
      "text/plain": [
       "                         Unnamed: 0    0     0.1    1     1.1     10    10.1  \\\n",
       "0  7cf9221322a0e2fdefb1b998b8f2ab29  0.0  1743.0  0.0   954.0  176.0  1128.0   \n",
       "1  5f16c0ab27a806fd08db3122921adf3a  0.0   943.0  0.0   774.0   15.0   726.0   \n",
       "2  ec868fc2b388293cf10e18ee9518d72f  0.0  1099.0  0.0   760.0  137.0   882.0   \n",
       "3  91f55a33d7502c1a1fa5da7ff2f7b648  0.0  2528.0  0.0  1332.0   97.0  2116.0   \n",
       "4  3ef1020bda95ce7836d2680fa553ecb7  6.0   153.0  0.0   151.0   15.0   126.0   \n",
       "\n",
       "       11    11.1      12  ...     9.1      90      91      92      93  \\\n",
       "0  1261.0  1234.0   974.0  ...  1386.0     0.0  2651.0     0.0  1705.0   \n",
       "1   948.0   638.0   558.0  ...   982.0     0.0  1726.0     0.0   671.0   \n",
       "2   364.0   569.0   340.0  ...   645.0     0.0  1614.0     0.0  1331.0   \n",
       "3  1846.0  2249.0  1150.0  ...  2312.0  3665.0     0.0  2644.0  3664.0   \n",
       "4   125.0   153.0    59.0  ...   161.0     1.0   279.0     1.0    39.0   \n",
       "\n",
       "       94    95    96      97     98  \n",
       "0  2647.0   2.0   2.0   944.0  915.0  \n",
       "1  1557.0  15.0  12.0  1040.0  976.0  \n",
       "2  1614.0   2.0   3.0   281.0  267.0  \n",
       "3    20.0   0.0  34.0  1001.0  847.0  \n",
       "4   279.0   0.0   2.0   240.0  238.0  \n",
       "\n",
       "[5 rows x 118 columns]"
      ]
     },
     "execution_count": 63,
     "metadata": {},
     "output_type": "execute_result"
    }
   ],
   "source": [
    "full_train_client.head()"
   ]
  },
  {
   "cell_type": "code",
   "execution_count": 77,
   "metadata": {},
   "outputs": [
    {
     "data": {
      "text/html": [
       "<div>\n",
       "<style scoped>\n",
       "    .dataframe tbody tr th:only-of-type {\n",
       "        vertical-align: middle;\n",
       "    }\n",
       "\n",
       "    .dataframe tbody tr th {\n",
       "        vertical-align: top;\n",
       "    }\n",
       "\n",
       "    .dataframe thead th {\n",
       "        text-align: right;\n",
       "    }\n",
       "</style>\n",
       "<table border=\"1\" class=\"dataframe\">\n",
       "  <thead>\n",
       "    <tr style=\"text-align: right;\">\n",
       "      <th></th>\n",
       "      <th>Unnamed: 0.1</th>\n",
       "      <th>0</th>\n",
       "      <th>0.1</th>\n",
       "      <th>1</th>\n",
       "      <th>1.1</th>\n",
       "      <th>10</th>\n",
       "      <th>10.1</th>\n",
       "      <th>11</th>\n",
       "      <th>11.1</th>\n",
       "      <th>12</th>\n",
       "      <th>...</th>\n",
       "      <th>9.1</th>\n",
       "      <th>90</th>\n",
       "      <th>91</th>\n",
       "      <th>92</th>\n",
       "      <th>93</th>\n",
       "      <th>94</th>\n",
       "      <th>95</th>\n",
       "      <th>96</th>\n",
       "      <th>97</th>\n",
       "      <th>98</th>\n",
       "    </tr>\n",
       "  </thead>\n",
       "  <tbody>\n",
       "    <tr>\n",
       "      <th>0</th>\n",
       "      <td>7cf9221322a0e2fdefb1b998b8f2ab29</td>\n",
       "      <td>0.0</td>\n",
       "      <td>1743.0</td>\n",
       "      <td>0.0</td>\n",
       "      <td>954.0</td>\n",
       "      <td>176.0</td>\n",
       "      <td>1128.0</td>\n",
       "      <td>1261.0</td>\n",
       "      <td>1234.0</td>\n",
       "      <td>974.0</td>\n",
       "      <td>...</td>\n",
       "      <td>1386.0</td>\n",
       "      <td>0.0</td>\n",
       "      <td>2651.0</td>\n",
       "      <td>0.0</td>\n",
       "      <td>1705.0</td>\n",
       "      <td>2647.0</td>\n",
       "      <td>2.0</td>\n",
       "      <td>2.0</td>\n",
       "      <td>944.0</td>\n",
       "      <td>915.0</td>\n",
       "    </tr>\n",
       "    <tr>\n",
       "      <th>1</th>\n",
       "      <td>5f16c0ab27a806fd08db3122921adf3a</td>\n",
       "      <td>0.0</td>\n",
       "      <td>943.0</td>\n",
       "      <td>0.0</td>\n",
       "      <td>774.0</td>\n",
       "      <td>15.0</td>\n",
       "      <td>726.0</td>\n",
       "      <td>948.0</td>\n",
       "      <td>638.0</td>\n",
       "      <td>558.0</td>\n",
       "      <td>...</td>\n",
       "      <td>982.0</td>\n",
       "      <td>0.0</td>\n",
       "      <td>1726.0</td>\n",
       "      <td>0.0</td>\n",
       "      <td>671.0</td>\n",
       "      <td>1557.0</td>\n",
       "      <td>15.0</td>\n",
       "      <td>12.0</td>\n",
       "      <td>1040.0</td>\n",
       "      <td>976.0</td>\n",
       "    </tr>\n",
       "    <tr>\n",
       "      <th>2</th>\n",
       "      <td>ec868fc2b388293cf10e18ee9518d72f</td>\n",
       "      <td>0.0</td>\n",
       "      <td>1099.0</td>\n",
       "      <td>0.0</td>\n",
       "      <td>760.0</td>\n",
       "      <td>137.0</td>\n",
       "      <td>882.0</td>\n",
       "      <td>364.0</td>\n",
       "      <td>569.0</td>\n",
       "      <td>340.0</td>\n",
       "      <td>...</td>\n",
       "      <td>645.0</td>\n",
       "      <td>0.0</td>\n",
       "      <td>1614.0</td>\n",
       "      <td>0.0</td>\n",
       "      <td>1331.0</td>\n",
       "      <td>1614.0</td>\n",
       "      <td>2.0</td>\n",
       "      <td>3.0</td>\n",
       "      <td>281.0</td>\n",
       "      <td>267.0</td>\n",
       "    </tr>\n",
       "    <tr>\n",
       "      <th>3</th>\n",
       "      <td>91f55a33d7502c1a1fa5da7ff2f7b648</td>\n",
       "      <td>0.0</td>\n",
       "      <td>2528.0</td>\n",
       "      <td>0.0</td>\n",
       "      <td>1332.0</td>\n",
       "      <td>97.0</td>\n",
       "      <td>2116.0</td>\n",
       "      <td>1846.0</td>\n",
       "      <td>2249.0</td>\n",
       "      <td>1150.0</td>\n",
       "      <td>...</td>\n",
       "      <td>2312.0</td>\n",
       "      <td>3665.0</td>\n",
       "      <td>0.0</td>\n",
       "      <td>2644.0</td>\n",
       "      <td>3664.0</td>\n",
       "      <td>20.0</td>\n",
       "      <td>0.0</td>\n",
       "      <td>34.0</td>\n",
       "      <td>1001.0</td>\n",
       "      <td>847.0</td>\n",
       "    </tr>\n",
       "    <tr>\n",
       "      <th>4</th>\n",
       "      <td>3ef1020bda95ce7836d2680fa553ecb7</td>\n",
       "      <td>6.0</td>\n",
       "      <td>153.0</td>\n",
       "      <td>0.0</td>\n",
       "      <td>151.0</td>\n",
       "      <td>15.0</td>\n",
       "      <td>126.0</td>\n",
       "      <td>125.0</td>\n",
       "      <td>153.0</td>\n",
       "      <td>59.0</td>\n",
       "      <td>...</td>\n",
       "      <td>161.0</td>\n",
       "      <td>1.0</td>\n",
       "      <td>279.0</td>\n",
       "      <td>1.0</td>\n",
       "      <td>39.0</td>\n",
       "      <td>279.0</td>\n",
       "      <td>0.0</td>\n",
       "      <td>2.0</td>\n",
       "      <td>240.0</td>\n",
       "      <td>238.0</td>\n",
       "    </tr>\n",
       "  </tbody>\n",
       "</table>\n",
       "<p>5 rows × 118 columns</p>\n",
       "</div>"
      ],
      "text/plain": [
       "                       Unnamed: 0.1    0     0.1    1     1.1     10    10.1  \\\n",
       "0  7cf9221322a0e2fdefb1b998b8f2ab29  0.0  1743.0  0.0   954.0  176.0  1128.0   \n",
       "1  5f16c0ab27a806fd08db3122921adf3a  0.0   943.0  0.0   774.0   15.0   726.0   \n",
       "2  ec868fc2b388293cf10e18ee9518d72f  0.0  1099.0  0.0   760.0  137.0   882.0   \n",
       "3  91f55a33d7502c1a1fa5da7ff2f7b648  0.0  2528.0  0.0  1332.0   97.0  2116.0   \n",
       "4  3ef1020bda95ce7836d2680fa553ecb7  6.0   153.0  0.0   151.0   15.0   126.0   \n",
       "\n",
       "       11    11.1      12  ...     9.1      90      91      92      93  \\\n",
       "0  1261.0  1234.0   974.0  ...  1386.0     0.0  2651.0     0.0  1705.0   \n",
       "1   948.0   638.0   558.0  ...   982.0     0.0  1726.0     0.0   671.0   \n",
       "2   364.0   569.0   340.0  ...   645.0     0.0  1614.0     0.0  1331.0   \n",
       "3  1846.0  2249.0  1150.0  ...  2312.0  3665.0     0.0  2644.0  3664.0   \n",
       "4   125.0   153.0    59.0  ...   161.0     1.0   279.0     1.0    39.0   \n",
       "\n",
       "       94    95    96      97     98  \n",
       "0  2647.0   2.0   2.0   944.0  915.0  \n",
       "1  1557.0  15.0  12.0  1040.0  976.0  \n",
       "2  1614.0   2.0   3.0   281.0  267.0  \n",
       "3    20.0   0.0  34.0  1001.0  847.0  \n",
       "4   279.0   0.0   2.0   240.0  238.0  \n",
       "\n",
       "[5 rows x 118 columns]"
      ]
     },
     "execution_count": 77,
     "metadata": {},
     "output_type": "execute_result"
    }
   ],
   "source": [
    "full_train_clientg=pd.read_csv('full_train_client_0_4100000.csv')\n",
    "full_train_clientg.drop('Unnamed: 0', axis=1, inplace=True)\n",
    "full_train_clientg.head()"
   ]
  },
  {
   "cell_type": "code",
   "execution_count": 79,
   "metadata": {},
   "outputs": [
    {
     "data": {
      "text/html": [
       "<div>\n",
       "<style scoped>\n",
       "    .dataframe tbody tr th:only-of-type {\n",
       "        vertical-align: middle;\n",
       "    }\n",
       "\n",
       "    .dataframe tbody tr th {\n",
       "        vertical-align: top;\n",
       "    }\n",
       "\n",
       "    .dataframe thead th {\n",
       "        text-align: right;\n",
       "    }\n",
       "</style>\n",
       "<table border=\"1\" class=\"dataframe\">\n",
       "  <thead>\n",
       "    <tr style=\"text-align: right;\">\n",
       "      <th></th>\n",
       "      <th>Unnamed: 0</th>\n",
       "      <th>0</th>\n",
       "      <th>0.1</th>\n",
       "      <th>1</th>\n",
       "      <th>1.1</th>\n",
       "      <th>10</th>\n",
       "      <th>10.1</th>\n",
       "      <th>11</th>\n",
       "      <th>11.1</th>\n",
       "      <th>12</th>\n",
       "      <th>...</th>\n",
       "      <th>9.1</th>\n",
       "      <th>90</th>\n",
       "      <th>91</th>\n",
       "      <th>92</th>\n",
       "      <th>93</th>\n",
       "      <th>94</th>\n",
       "      <th>95</th>\n",
       "      <th>96</th>\n",
       "      <th>97</th>\n",
       "      <th>98</th>\n",
       "    </tr>\n",
       "  </thead>\n",
       "  <tbody>\n",
       "    <tr>\n",
       "      <th>0</th>\n",
       "      <td>7cf9221322a0e2fdefb1b998b8f2ab29</td>\n",
       "      <td>0.0</td>\n",
       "      <td>1743.0</td>\n",
       "      <td>0.0</td>\n",
       "      <td>954.0</td>\n",
       "      <td>176.0</td>\n",
       "      <td>1128.0</td>\n",
       "      <td>1261.0</td>\n",
       "      <td>1234.0</td>\n",
       "      <td>974.0</td>\n",
       "      <td>...</td>\n",
       "      <td>1386.0</td>\n",
       "      <td>0.0</td>\n",
       "      <td>2651.0</td>\n",
       "      <td>0.0</td>\n",
       "      <td>1705.0</td>\n",
       "      <td>2647.0</td>\n",
       "      <td>2.0</td>\n",
       "      <td>2.0</td>\n",
       "      <td>944.0</td>\n",
       "      <td>915.0</td>\n",
       "    </tr>\n",
       "    <tr>\n",
       "      <th>1</th>\n",
       "      <td>5f16c0ab27a806fd08db3122921adf3a</td>\n",
       "      <td>0.0</td>\n",
       "      <td>943.0</td>\n",
       "      <td>0.0</td>\n",
       "      <td>774.0</td>\n",
       "      <td>15.0</td>\n",
       "      <td>726.0</td>\n",
       "      <td>948.0</td>\n",
       "      <td>638.0</td>\n",
       "      <td>558.0</td>\n",
       "      <td>...</td>\n",
       "      <td>982.0</td>\n",
       "      <td>0.0</td>\n",
       "      <td>1726.0</td>\n",
       "      <td>0.0</td>\n",
       "      <td>671.0</td>\n",
       "      <td>1557.0</td>\n",
       "      <td>15.0</td>\n",
       "      <td>12.0</td>\n",
       "      <td>1040.0</td>\n",
       "      <td>976.0</td>\n",
       "    </tr>\n",
       "    <tr>\n",
       "      <th>2</th>\n",
       "      <td>ec868fc2b388293cf10e18ee9518d72f</td>\n",
       "      <td>0.0</td>\n",
       "      <td>1099.0</td>\n",
       "      <td>0.0</td>\n",
       "      <td>760.0</td>\n",
       "      <td>137.0</td>\n",
       "      <td>882.0</td>\n",
       "      <td>364.0</td>\n",
       "      <td>569.0</td>\n",
       "      <td>340.0</td>\n",
       "      <td>...</td>\n",
       "      <td>645.0</td>\n",
       "      <td>0.0</td>\n",
       "      <td>1614.0</td>\n",
       "      <td>0.0</td>\n",
       "      <td>1331.0</td>\n",
       "      <td>1614.0</td>\n",
       "      <td>2.0</td>\n",
       "      <td>3.0</td>\n",
       "      <td>281.0</td>\n",
       "      <td>267.0</td>\n",
       "    </tr>\n",
       "    <tr>\n",
       "      <th>3</th>\n",
       "      <td>91f55a33d7502c1a1fa5da7ff2f7b648</td>\n",
       "      <td>0.0</td>\n",
       "      <td>2528.0</td>\n",
       "      <td>0.0</td>\n",
       "      <td>1332.0</td>\n",
       "      <td>97.0</td>\n",
       "      <td>2116.0</td>\n",
       "      <td>1846.0</td>\n",
       "      <td>2249.0</td>\n",
       "      <td>1150.0</td>\n",
       "      <td>...</td>\n",
       "      <td>2312.0</td>\n",
       "      <td>3665.0</td>\n",
       "      <td>0.0</td>\n",
       "      <td>2644.0</td>\n",
       "      <td>3664.0</td>\n",
       "      <td>20.0</td>\n",
       "      <td>0.0</td>\n",
       "      <td>34.0</td>\n",
       "      <td>1001.0</td>\n",
       "      <td>847.0</td>\n",
       "    </tr>\n",
       "    <tr>\n",
       "      <th>4</th>\n",
       "      <td>3ef1020bda95ce7836d2680fa553ecb7</td>\n",
       "      <td>6.0</td>\n",
       "      <td>153.0</td>\n",
       "      <td>0.0</td>\n",
       "      <td>151.0</td>\n",
       "      <td>15.0</td>\n",
       "      <td>126.0</td>\n",
       "      <td>125.0</td>\n",
       "      <td>153.0</td>\n",
       "      <td>59.0</td>\n",
       "      <td>...</td>\n",
       "      <td>161.0</td>\n",
       "      <td>1.0</td>\n",
       "      <td>279.0</td>\n",
       "      <td>1.0</td>\n",
       "      <td>39.0</td>\n",
       "      <td>279.0</td>\n",
       "      <td>0.0</td>\n",
       "      <td>2.0</td>\n",
       "      <td>240.0</td>\n",
       "      <td>238.0</td>\n",
       "    </tr>\n",
       "  </tbody>\n",
       "</table>\n",
       "<p>5 rows × 118 columns</p>\n",
       "</div>"
      ],
      "text/plain": [
       "                         Unnamed: 0    0     0.1    1     1.1     10    10.1  \\\n",
       "0  7cf9221322a0e2fdefb1b998b8f2ab29  0.0  1743.0  0.0   954.0  176.0  1128.0   \n",
       "1  5f16c0ab27a806fd08db3122921adf3a  0.0   943.0  0.0   774.0   15.0   726.0   \n",
       "2  ec868fc2b388293cf10e18ee9518d72f  0.0  1099.0  0.0   760.0  137.0   882.0   \n",
       "3  91f55a33d7502c1a1fa5da7ff2f7b648  0.0  2528.0  0.0  1332.0   97.0  2116.0   \n",
       "4  3ef1020bda95ce7836d2680fa553ecb7  6.0   153.0  0.0   151.0   15.0   126.0   \n",
       "\n",
       "       11    11.1      12  ...     9.1      90      91      92      93  \\\n",
       "0  1261.0  1234.0   974.0  ...  1386.0     0.0  2651.0     0.0  1705.0   \n",
       "1   948.0   638.0   558.0  ...   982.0     0.0  1726.0     0.0   671.0   \n",
       "2   364.0   569.0   340.0  ...   645.0     0.0  1614.0     0.0  1331.0   \n",
       "3  1846.0  2249.0  1150.0  ...  2312.0  3665.0     0.0  2644.0  3664.0   \n",
       "4   125.0   153.0    59.0  ...   161.0     1.0   279.0     1.0    39.0   \n",
       "\n",
       "       94    95    96      97     98  \n",
       "0  2647.0   2.0   2.0   944.0  915.0  \n",
       "1  1557.0  15.0  12.0  1040.0  976.0  \n",
       "2  1614.0   2.0   3.0   281.0  267.0  \n",
       "3    20.0   0.0  34.0  1001.0  847.0  \n",
       "4   279.0   0.0   2.0   240.0  238.0  \n",
       "\n",
       "[5 rows x 118 columns]"
      ]
     },
     "execution_count": 79,
     "metadata": {},
     "output_type": "execute_result"
    }
   ],
   "source": [
    "full_train_clientg=full_train_clientg.rename(columns={'Unnamed: 0.1': 'Unnamed: 0'})\n",
    "full_train_clientg.head()"
   ]
  },
  {
   "cell_type": "code",
   "execution_count": null,
   "metadata": {},
   "outputs": [],
   "source": []
  }
 ],
 "metadata": {
  "kernelspec": {
   "display_name": "Python 3",
   "language": "python",
   "name": "python3"
  },
  "language_info": {
   "codemirror_mode": {
    "name": "ipython",
    "version": 3
   },
   "file_extension": ".py",
   "mimetype": "text/x-python",
   "name": "python",
   "nbconvert_exporter": "python",
   "pygments_lexer": "ipython3",
   "version": "3.8.5"
  }
 },
 "nbformat": 4,
 "nbformat_minor": 4
}
